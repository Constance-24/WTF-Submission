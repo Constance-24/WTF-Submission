{
  "nbformat": 4,
  "nbformat_minor": 0,
  "metadata": {
    "colab": {
      "provenance": [],
      "collapsed_sections": []
    },
    "kernelspec": {
      "name": "python3",
      "display_name": "Python 3"
    },
    "language_info": {
      "name": "python"
    }
  },
  "cells": [
    {
      "cell_type": "code",
      "execution_count": null,
      "metadata": {
        "colab": {
          "base_uri": "https://localhost:8080/"
        },
        "id": "z-sVRB5kX5sq",
        "outputId": "4cf2c9d6-9493-4da3-ec8f-e04b005ddc93"
      },
      "outputs": [
        {
          "output_type": "stream",
          "name": "stdout",
          "text": [
            "1\n",
            "2\n",
            "3\n",
            "4\n",
            "5\n",
            "6\n",
            "7\n",
            "8\n",
            "9\n"
          ]
        }
      ],
      "source": [
        "# 1. Print all elements of a list using for loop.\n",
        "number = [1,2,3,4,5,6,7,8,9]\n",
        "for i in number:\n",
        "  print(i)"
      ]
    },
    {
      "cell_type": "code",
      "source": [
        "# Using range(1,101), make two list, one containing all even numbers and other containing all odd numbers.\n",
        "odd_numbers = []\n",
        "\n",
        "even_numbers = []\n",
        "\n",
        "for i in range(1, 101):\n",
        "\n",
        "  if i%2 == 0:\n",
        "\n",
        "     even_numbers.append(i)\n",
        "\n",
        "  else:\n",
        "\n",
        "     odd_numbers.append(i)\n",
        "\n",
        "print(\"even numbers: \", even_numbers)\n",
        "\n",
        "print(\"odd numbers: \", odd_numbers)"
      ],
      "metadata": {
        "colab": {
          "base_uri": "https://localhost:8080/"
        },
        "id": "6G4bj9JJZJDA",
        "outputId": "ce1d6dc1-c719-470a-8b8d-f6ebdb6f2d86"
      },
      "execution_count": null,
      "outputs": [
        {
          "output_type": "stream",
          "name": "stdout",
          "text": [
            "even numbers:  [2, 4, 6, 8, 10, 12, 14, 16, 18, 20, 22, 24, 26, 28, 30, 32, 34, 36, 38, 40, 42, 44, 46, 48, 50, 52, 54, 56, 58, 60, 62, 64, 66, 68, 70, 72, 74, 76, 78, 80, 82, 84, 86, 88, 90, 92, 94, 96, 98, 100]\n",
            "odd numbers:  [1, 3, 5, 7, 9, 11, 13, 15, 17, 19, 21, 23, 25, 27, 29, 31, 33, 35, 37, 39, 41, 43, 45, 47, 49, 51, 53, 55, 57, 59, 61, 63, 65, 67, 69, 71, 73, 75, 77, 79, 81, 83, 85, 87, 89, 91, 93, 95, 97, 99]\n"
          ]
        }
      ]
    },
    {
      "cell_type": "code",
      "source": [
        "# 2. A company decided to give bonus of 5% to employee if his/her year of service is more than 5\n",
        "# years. Ask user for their salary and year of service and print the net bonus amount\n",
        "salary = int(input(\"Enter your Salary: \"))\n",
        "years_of_service = int(input(\"Enter your years of service: \"))\n",
        "\n",
        "if years_of_service > 5:\n",
        "    bonus = salary * 0.05\n",
        "    print(\"Net Salary: \", bonus + salary)\n",
        "else:\n",
        "  print(\"Net Salary: \", salary)"
      ],
      "metadata": {
        "colab": {
          "base_uri": "https://localhost:8080/"
        },
        "id": "IQVn6RyJZTZm",
        "outputId": "c89c635b-34ba-46b0-915a-b6ea40b0eca1"
      },
      "execution_count": null,
      "outputs": [
        {
          "output_type": "stream",
          "name": "stdout",
          "text": [
            "Enter your Salary: 3215\n",
            "Enter your years of service: 9\n",
            "Net Salary:  3375.75\n"
          ]
        }
      ]
    },
    {
      "cell_type": "code",
      "source": [
        "# 3. Take input of age of 3 people by user and determine oldest and youngest among them.\n",
        "age1 = int(input(\"Enter age Person 1: \"))\n",
        "age2 = int(input(\"Enter age Person 2: \"))\n",
        "age3 = int(input(\"Enter age Person 3: \"))\n",
        "print()\n",
        "if (age1 > age2) & (age1 > age3):\n",
        "    print('Person 1 is the oldest')\n",
        "    if age2 < age3:\n",
        "        print('Person 2 is the youngest')\n",
        "    else:\n",
        "        print('Person 3 is the youngest')\n",
        "elif (age2 > age1) & (age2 > age3):\n",
        "    print('Person 2 is the oldest')\n",
        "    if age1 < age3:\n",
        "        print('Person 1 is the youngest')\n",
        "    else:\n",
        "        print('Person 3 is the youngest')\n",
        "else:\n",
        "     print('Person 3 is the oldest')\n",
        "     if age1 < age2:\n",
        "         print('Person 1 is the youngest')\n",
        "     else:\n",
        "         print('Person 2 is the youngest')"
      ],
      "metadata": {
        "id": "V5BUYYpSZ-Fm"
      },
      "execution_count": null,
      "outputs": []
    },
    {
      "cell_type": "code",
      "source": [
        "# 4. A school has following rules for grading system:\n",
        "#a. Below 25 - F\n",
        "#b. 25 to 45 - E\n",
        "#c. 45 to 50 - D\n",
        "#d. 50 to 60 - C\n",
        "#e. 60 to 80 - B\n",
        "#f. Above 80 - A\n",
        "marks = int(input(\"Enter your marks: \"))\n",
        "if marks < 25:\n",
        "  print(\"F\")\n",
        "elif 25 >= marks <= 45:\n",
        "  print(\"E\")\n",
        "elif 45 > marks <= 50:\n",
        "  print(\"D\")\n",
        "elif 50 > marks <= 60:\n",
        "  print(\"C\")\n",
        "elif 60 > marks <= 80:\n",
        "  print(\"B\")\n",
        "else:\n",
        "  print(\"A\")"
      ],
      "metadata": {
        "id": "VPxMOnCTcW9c"
      },
      "execution_count": null,
      "outputs": []
    },
    {
      "cell_type": "code",
      "source": [
        "# 6.  Write a Python script to merge two Python dictionaries\n",
        "mydict1={\"Nigera\":\"Abuja\",\"Ghana\":\"Accra\",\"Rwanda\":\"Kigali\",\"Kenya\":\"Nairobi\"}\n",
        "print(mydict1)\n",
        "mydict2={\"Mali\":\"Bamako\"}\n",
        "print(mydict2)\n",
        "mydict = mydict1.copy()\n",
        "mydict.update(mydict2)\n",
        "print(mydict)"
      ],
      "metadata": {
        "colab": {
          "base_uri": "https://localhost:8080/"
        },
        "id": "gKpYhMqKcwMs",
        "outputId": "13fc926b-f2dc-4d86-b331-672add3085de"
      },
      "execution_count": null,
      "outputs": [
        {
          "output_type": "stream",
          "name": "stdout",
          "text": [
            "{'Nigera': 'Abuja', 'Ghana': 'Accra', 'Rwanda': 'Kigali', 'Kenya': 'Nairobi'}\n",
            "{'Mali': 'Bamako'}\n",
            "{'Nigera': 'Abuja', 'Ghana': 'Accra', 'Rwanda': 'Kigali', 'Kenya': 'Nairobi', 'Mali': 'Bamako'}\n"
          ]
        }
      ]
    },
    {
      "cell_type": "code",
      "source": [
        "# 7.  Write a Python program to remove a key from a dictionary\n",
        "mydict={\"Nigera\":120,\"Ghana\":30,\"Rwanda\":15,\"Kenya\":50}\n",
        "print(mydict)\n",
        "if 'Kenya' in mydict:\n",
        "  del mydict['Kenya']\n",
        "print(mydict)"
      ],
      "metadata": {
        "colab": {
          "base_uri": "https://localhost:8080/"
        },
        "id": "-acRIq_7ef66",
        "outputId": "49c648f1-734b-4cc9-9801-fd856fb0e69f"
      },
      "execution_count": null,
      "outputs": [
        {
          "output_type": "stream",
          "name": "stdout",
          "text": [
            "{'Nigera': 120, 'Ghana': 30, 'Rwanda': 15, 'Kenya': 50}\n",
            "{'Nigera': 120, 'Ghana': 30, 'Rwanda': 15}\n"
          ]
        }
      ]
    },
    {
      "cell_type": "code",
      "source": [
        "# 8.  Write a Python program to get the largest number from a list\n",
        "list1 = [12,34,56,78,90,34,56,5,67,54,89,21,1,79]\n",
        "print(\"The largest number from the list: \", max(list1))"
      ],
      "metadata": {
        "colab": {
          "base_uri": "https://localhost:8080/"
        },
        "id": "95UEN0v2gwF5",
        "outputId": "77228dfb-ad27-4832-88fe-e445750861c5"
      },
      "execution_count": null,
      "outputs": [
        {
          "output_type": "stream",
          "name": "stdout",
          "text": [
            "The largest number from the list:  90\n"
          ]
        }
      ]
    },
    {
      "cell_type": "code",
      "source": [],
      "metadata": {
        "id": "26_YEZqpjY1d"
      },
      "execution_count": null,
      "outputs": []
    }
  ]
}